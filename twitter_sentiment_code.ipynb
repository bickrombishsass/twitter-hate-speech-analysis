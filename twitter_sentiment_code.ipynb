{
  "nbformat": 4,
  "nbformat_minor": 0,
  "metadata": {
    "kernelspec": {
      "display_name": "Python 3",
      "language": "python",
      "name": "python3"
    },
    "language_info": {
      "codemirror_mode": {
        "name": "ipython",
        "version": 3
      },
      "file_extension": ".py",
      "mimetype": "text/x-python",
      "name": "python",
      "nbconvert_exporter": "python",
      "pygments_lexer": "ipython3",
      "version": "3.6.4"
    },
    "colab": {
      "name": "twitter-sentiment-code.ipynb",
      "provenance": [],
      "toc_visible": true
    }
  },
  "cells": [
    {
      "cell_type": "code",
      "metadata": {
        "_cell_guid": "b1076dfc-b9ad-4769-8c92-a6c4dae69d19",
        "_uuid": "8f2839f25d086af736a60e9eeb907d3b93b6e0e5",
        "id": "eexFiagqZhQy",
        "colab_type": "code",
        "colab": {}
      },
      "source": [
        "import numpy as np \n",
        "import pandas as pd "
      ],
      "execution_count": 0,
      "outputs": []
    },
    {
      "cell_type": "code",
      "metadata": {
        "_cell_guid": "79c7e3d0-c299-4dcb-8224-4455121ee9b0",
        "_uuid": "d629ff2d2480ee46fbb7e2d37f6b5fab8052498a",
        "id": "NbRA-ni0ZhQ6",
        "colab_type": "code",
        "colab": {}
      },
      "source": [
        "test = pd.read_csv(\"/test_tweets.csv\")\n",
        "train = pd.read_csv(\"/train_tweets.csv\")"
      ],
      "execution_count": 0,
      "outputs": []
    },
    {
      "cell_type": "code",
      "metadata": {
        "id": "xqPuuU4sb4Na",
        "colab_type": "code",
        "colab": {}
      },
      "source": [
        "#!pip3 install nltk"
      ],
      "execution_count": 0,
      "outputs": []
    },
    {
      "cell_type": "code",
      "metadata": {
        "id": "BusQFt3_cHet",
        "colab_type": "code",
        "colab": {
          "base_uri": "https://localhost:8080/",
          "height": 101
        },
        "outputId": "7db4587f-da72-4073-fa56-725dc3dc5e55"
      },
      "source": [
        "import nltk\n",
        "nltk.download('stopwords')\n",
        "nltk.download('wordnet')"
      ],
      "execution_count": 7,
      "outputs": [
        {
          "output_type": "stream",
          "text": [
            "[nltk_data] Downloading package stopwords to /root/nltk_data...\n",
            "[nltk_data]   Package stopwords is already up-to-date!\n",
            "[nltk_data] Downloading package wordnet to /root/nltk_data...\n",
            "[nltk_data]   Package wordnet is already up-to-date!\n"
          ],
          "name": "stdout"
        },
        {
          "output_type": "execute_result",
          "data": {
            "text/plain": [
              "True"
            ]
          },
          "metadata": {
            "tags": []
          },
          "execution_count": 7
        }
      ]
    },
    {
      "cell_type": "code",
      "metadata": {
        "_uuid": "273e4d6f54c5ab1dbaee499f51c6202cfc3c0528",
        "id": "8M3eOkQ1ZhRA",
        "colab_type": "code",
        "colab": {}
      },
      "source": [
        "import string\n",
        "punctuations = string.punctuation\n",
        "from nltk.corpus import stopwords\n",
        "stopword = set(stopwords.words('english'))"
      ],
      "execution_count": 0,
      "outputs": []
    },
    {
      "cell_type": "code",
      "metadata": {
        "id": "aV3ozxgJZZqx",
        "colab_type": "code",
        "colab": {
          "base_uri": "https://localhost:8080/",
          "height": 195
        },
        "outputId": "b4333939-dd20-42a0-921c-86f883fe7e86"
      },
      "source": [
        "test.head()"
      ],
      "execution_count": 9,
      "outputs": [
        {
          "output_type": "execute_result",
          "data": {
            "text/html": [
              "<div>\n",
              "<style scoped>\n",
              "    .dataframe tbody tr th:only-of-type {\n",
              "        vertical-align: middle;\n",
              "    }\n",
              "\n",
              "    .dataframe tbody tr th {\n",
              "        vertical-align: top;\n",
              "    }\n",
              "\n",
              "    .dataframe thead th {\n",
              "        text-align: right;\n",
              "    }\n",
              "</style>\n",
              "<table border=\"1\" class=\"dataframe\">\n",
              "  <thead>\n",
              "    <tr style=\"text-align: right;\">\n",
              "      <th></th>\n",
              "      <th>id</th>\n",
              "      <th>tweet</th>\n",
              "    </tr>\n",
              "  </thead>\n",
              "  <tbody>\n",
              "    <tr>\n",
              "      <th>0</th>\n",
              "      <td>31963</td>\n",
              "      <td>#studiolife #aislife #requires #passion #dedic...</td>\n",
              "    </tr>\n",
              "    <tr>\n",
              "      <th>1</th>\n",
              "      <td>31964</td>\n",
              "      <td>@user #white #supremacists want everyone to s...</td>\n",
              "    </tr>\n",
              "    <tr>\n",
              "      <th>2</th>\n",
              "      <td>31965</td>\n",
              "      <td>safe ways to heal your #acne!!    #altwaystohe...</td>\n",
              "    </tr>\n",
              "    <tr>\n",
              "      <th>3</th>\n",
              "      <td>31966</td>\n",
              "      <td>is the hp and the cursed child book up for res...</td>\n",
              "    </tr>\n",
              "    <tr>\n",
              "      <th>4</th>\n",
              "      <td>31967</td>\n",
              "      <td>3rd #bihday to my amazing, hilarious #nephew...</td>\n",
              "    </tr>\n",
              "  </tbody>\n",
              "</table>\n",
              "</div>"
            ],
            "text/plain": [
              "      id                                              tweet\n",
              "0  31963  #studiolife #aislife #requires #passion #dedic...\n",
              "1  31964   @user #white #supremacists want everyone to s...\n",
              "2  31965  safe ways to heal your #acne!!    #altwaystohe...\n",
              "3  31966  is the hp and the cursed child book up for res...\n",
              "4  31967    3rd #bihday to my amazing, hilarious #nephew..."
            ]
          },
          "metadata": {
            "tags": []
          },
          "execution_count": 9
        }
      ]
    },
    {
      "cell_type": "code",
      "metadata": {
        "_uuid": "a94e8ef2de81bcc50e514d838bdcd68850346548",
        "id": "ZFo6IAj2ZhRI",
        "colab_type": "code",
        "colab": {
          "base_uri": "https://localhost:8080/",
          "height": 34
        },
        "outputId": "5088d0c4-19ed-4c59-b8ad-61ec8d6e0a21"
      },
      "source": [
        "import string\n",
        "\n",
        "punctuations = string.punctuation\n",
        "\n",
        "from nltk.corpus import stopwords\n",
        "\n",
        "stopword = stopwords.words(\"english\")\n",
        "\n",
        "from nltk.stem.wordnet import WordNetLemmatizer\n",
        "\n",
        "lem = WordNetLemmatizer()\n",
        "\n",
        "# creating a function to clean the text\n",
        "def clean(text):\n",
        "    \n",
        "    #converting to lower case \n",
        "    clean_text = text.lower()\n",
        "    \n",
        "    # removing punctuations\n",
        "    clean_text = \"\".join(p for p in clean_text if p not in punctuations)\n",
        "    \n",
        "    \n",
        "    # removing stopwords\n",
        "    words = clean_text.split()\n",
        "    words =[w for w in words if w not in stopword]\n",
        "    words =[w for w in words if w!='user']\n",
        "    \n",
        "    # lemmatization\n",
        "    words = [lem.lemmatize(word, 'v') for word in words]\n",
        "    words = [lem.lemmatize(word, 'n') for word in words]\n",
        "    \n",
        "    cleaned_text = \" \".join(words)\n",
        "    \n",
        "    return cleaned_text\n",
        "\n",
        "# checking if our function works correctly or not\n",
        "clean(\"this is a @user Test Text for cleaning\")"
      ],
      "execution_count": 10,
      "outputs": [
        {
          "output_type": "execute_result",
          "data": {
            "text/plain": [
              "'test text clean'"
            ]
          },
          "metadata": {
            "tags": []
          },
          "execution_count": 10
        }
      ]
    },
    {
      "cell_type": "code",
      "metadata": {
        "_uuid": "5fcb62571bd74cf9a953d7e124884d3152a31dea",
        "id": "Mb50f-ZoZhRP",
        "colab_type": "code",
        "colab": {
          "base_uri": "https://localhost:8080/",
          "height": 195
        },
        "outputId": "18b81075-b7dd-4fb4-f8da-e1cc05ec83cb"
      },
      "source": [
        "train[\"cleaned_tweets\"] = train[\"tweet\"].apply(clean)\n",
        "test[\"cleaned_tweets\"] = test[\"tweet\"].apply(clean)\n",
        "\n",
        "train.head()"
      ],
      "execution_count": 11,
      "outputs": [
        {
          "output_type": "execute_result",
          "data": {
            "text/html": [
              "<div>\n",
              "<style scoped>\n",
              "    .dataframe tbody tr th:only-of-type {\n",
              "        vertical-align: middle;\n",
              "    }\n",
              "\n",
              "    .dataframe tbody tr th {\n",
              "        vertical-align: top;\n",
              "    }\n",
              "\n",
              "    .dataframe thead th {\n",
              "        text-align: right;\n",
              "    }\n",
              "</style>\n",
              "<table border=\"1\" class=\"dataframe\">\n",
              "  <thead>\n",
              "    <tr style=\"text-align: right;\">\n",
              "      <th></th>\n",
              "      <th>id</th>\n",
              "      <th>label</th>\n",
              "      <th>tweet</th>\n",
              "      <th>cleaned_tweets</th>\n",
              "    </tr>\n",
              "  </thead>\n",
              "  <tbody>\n",
              "    <tr>\n",
              "      <th>0</th>\n",
              "      <td>1</td>\n",
              "      <td>0</td>\n",
              "      <td>@user when a father is dysfunctional and is s...</td>\n",
              "      <td>father dysfunctional selfish drag kid dysfunct...</td>\n",
              "    </tr>\n",
              "    <tr>\n",
              "      <th>1</th>\n",
              "      <td>2</td>\n",
              "      <td>0</td>\n",
              "      <td>@user @user thanks for #lyft credit i can't us...</td>\n",
              "      <td>thank lyft credit cant use cause dont offer wh...</td>\n",
              "    </tr>\n",
              "    <tr>\n",
              "      <th>2</th>\n",
              "      <td>3</td>\n",
              "      <td>0</td>\n",
              "      <td>bihday your majesty</td>\n",
              "      <td>bihday majesty</td>\n",
              "    </tr>\n",
              "    <tr>\n",
              "      <th>3</th>\n",
              "      <td>4</td>\n",
              "      <td>0</td>\n",
              "      <td>#model   i love u take with u all the time in ...</td>\n",
              "      <td>model love u take u time urð± ðððð...</td>\n",
              "    </tr>\n",
              "    <tr>\n",
              "      <th>4</th>\n",
              "      <td>5</td>\n",
              "      <td>0</td>\n",
              "      <td>factsguide: society now    #motivation</td>\n",
              "      <td>factsguide society motivation</td>\n",
              "    </tr>\n",
              "  </tbody>\n",
              "</table>\n",
              "</div>"
            ],
            "text/plain": [
              "   id  ...                                     cleaned_tweets\n",
              "0   1  ...  father dysfunctional selfish drag kid dysfunct...\n",
              "1   2  ...  thank lyft credit cant use cause dont offer wh...\n",
              "2   3  ...                                     bihday majesty\n",
              "3   4  ...  model love u take u time urð± ðððð...\n",
              "4   5  ...                      factsguide society motivation\n",
              "\n",
              "[5 rows x 4 columns]"
            ]
          },
          "metadata": {
            "tags": []
          },
          "execution_count": 11
        }
      ]
    },
    {
      "cell_type": "markdown",
      "metadata": {
        "id": "CW3QEykCa85h",
        "colab_type": "text"
      },
      "source": [
        "Showing most frequent Good and Bad words."
      ]
    },
    {
      "cell_type": "code",
      "metadata": {
        "id": "amYUnwoBX7yq",
        "colab_type": "code",
        "colab": {
          "base_uri": "https://localhost:8080/",
          "height": 248
        },
        "outputId": "662f9103-4c00-4400-ff24-2ddbdb52de65"
      },
      "source": [
        "import matplotlib.pyplot as plt\n",
        "from wordcloud import WordCloud, STOPWORDS\n",
        "good_words = \" \".join(train[train['label']==0].cleaned_tweets)\n",
        "hatred_words = \" \".join(train[train['label']==1].cleaned_tweets)\n",
        "\n",
        "wordcloud = WordCloud(height=2000, width=2000, stopwords=STOPWORDS, background_color='white')\n",
        "wordcloud = wordcloud.generate(good_words)\n",
        "plt.imshow(wordcloud)\n",
        "plt.axis('off')\n",
        "plt.show()"
      ],
      "execution_count": 12,
      "outputs": [
        {
          "output_type": "display_data",
          "data": {
            "image/png": "[encoded data removed]",
            "text/plain": [
              "<Figure size 432x288 with 1 Axes>"
            ]
          },
          "metadata": {
            "tags": []
          }
        }
      ]
    },
    {
      "cell_type": "code",
      "metadata": {
        "id": "gvqyJxJkaOGC",
        "colab_type": "code",
        "colab": {
          "base_uri": "https://localhost:8080/",
          "height": 248
        },
        "outputId": "93e094d7-be2b-427e-f5fd-2ff67822856e"
      },
      "source": [
        "wordcloud = WordCloud(height=2000, width=2000, stopwords=STOPWORDS, background_color='white')\n",
        "wordcloud = wordcloud.generate(hatred_words)\n",
        "plt.imshow(wordcloud)\n",
        "plt.axis('off')\n",
        "plt.show()"
      ],
      "execution_count": 13,
      "outputs": [
        {
          "output_type": "display_data",
          "data": {
            "image/png": "[encoded data removed]",
            "text/plain": [
              "<Figure size 432x288 with 1 Axes>"
            ]
          },
          "metadata": {
            "tags": []
          }
        }
      ]
    },
    {
      "cell_type": "markdown",
      "metadata": {
        "id": "QcMGZYDAWE8C",
        "colab_type": "text"
      },
      "source": [
        "Vectorizing the words."
      ]
    },
    {
      "cell_type": "code",
      "metadata": {
        "_uuid": "a1551866e39546584f12533f0f6308b188c5905f",
        "id": "7gX6EhFlZhRU",
        "colab_type": "code",
        "colab": {}
      },
      "source": [
        "from sklearn.feature_extraction.text import CountVectorizer, TfidfVectorizer\n",
        "\n",
        "cvz = CountVectorizer()\n",
        "word_tfidf = TfidfVectorizer()\n",
        "cvz.fit(train[\"cleaned_tweets\"].values)\n",
        "count_vector_train = cvz.transform(train[\"cleaned_tweets\"].values)\n",
        "count_vector_test = cvz.transform(test[\"cleaned_tweets\"].values)\n",
        "\n",
        "word_tfidf.fit(train[\"cleaned_tweets\"].values)\n",
        "word_vector_train = word_tfidf.transform(train[\"cleaned_tweets\"].values)\n",
        "word_vector_test = word_tfidf.transform(test[\"cleaned_tweets\"].values)\n"
      ],
      "execution_count": 0,
      "outputs": []
    },
    {
      "cell_type": "code",
      "metadata": {
        "_uuid": "a0a6e7e4fa518a40078d76274a649efb73cfafba",
        "id": "rvE4bWu8ZhRa",
        "colab_type": "code",
        "colab": {}
      },
      "source": [
        "train_vector = count_vector_train\n",
        "test_vector = count_vector_test\n",
        "target = train['label']"
      ],
      "execution_count": 0,
      "outputs": []
    },
    {
      "cell_type": "code",
      "metadata": {
        "_uuid": "ae62a15bccc9b17a2e1366551d64e56c9eff56ec",
        "id": "-w0yRdnzZhRh",
        "colab_type": "code",
        "colab": {}
      },
      "source": [
        "from sklearn.model_selection import train_test_split\n",
        "trainx, valx, trainy, valy = train_test_split(train_vector,target)"
      ],
      "execution_count": 0,
      "outputs": []
    },
    {
      "cell_type": "markdown",
      "metadata": {
        "id": "_0h6fCClaZrO",
        "colab_type": "text"
      },
      "source": [
        "Different Models."
      ]
    },
    {
      "cell_type": "code",
      "metadata": {
        "_uuid": "474dc6ee657772f10a2346267a661ffdf45e69dc",
        "id": "xsDvAXs1ZhRo",
        "colab_type": "code",
        "colab": {}
      },
      "source": [
        "from sklearn import naive_bayes\n",
        "from sklearn import svm\n",
        "from sklearn.linear_model import LogisticRegression\n",
        "from sklearn import ensemble\n",
        "from sklearn.metrics import accuracy_score"
      ],
      "execution_count": 0,
      "outputs": []
    },
    {
      "cell_type": "code",
      "metadata": {
        "_uuid": "30b57df44d24fe8deb4d7c5f01a57faac21be3d8",
        "id": "F37IF_wiZhRw",
        "colab_type": "code",
        "colab": {
          "base_uri": "https://localhost:8080/",
          "height": 34
        },
        "outputId": "81e07f49-a00a-4503-8583-369cb4b011b8"
      },
      "source": [
        "model = naive_bayes.MultinomialNB()\n",
        "model.fit(trainx,trainy)\n",
        "preds = model.predict(valx)\n",
        "accuracy_score(preds,valy)"
      ],
      "execution_count": 18,
      "outputs": [
        {
          "output_type": "execute_result",
          "data": {
            "text/plain": [
              "0.9450631960956075"
            ]
          },
          "metadata": {
            "tags": []
          },
          "execution_count": 18
        }
      ]
    },
    {
      "cell_type": "code",
      "metadata": {
        "_uuid": "9f864b8a6fe509afd6c63b7b78c4c7feef476c54",
        "id": "4LcoB3WWZhR3",
        "colab_type": "code",
        "colab": {
          "base_uri": "https://localhost:8080/",
          "height": 34
        },
        "outputId": "b7aea295-dff4-416f-c78a-09712412bdac"
      },
      "source": [
        "model = svm.SVC()\n",
        "model.fit(trainx,trainy)\n",
        "preds = model.predict(valx)\n",
        "accuracy_score(preds,valy)"
      ],
      "execution_count": 19,
      "outputs": [
        {
          "output_type": "execute_result",
          "data": {
            "text/plain": [
              "0.958828682267551"
            ]
          },
          "metadata": {
            "tags": []
          },
          "execution_count": 19
        }
      ]
    },
    {
      "cell_type": "code",
      "metadata": {
        "_uuid": "56562dfa81f276ef6e350199ff8ed740f3e681ad",
        "id": "4Pk7MIThZhR9",
        "colab_type": "code",
        "colab": {
          "base_uri": "https://localhost:8080/",
          "height": 34
        },
        "outputId": "65843149-c045-4459-c3d0-6f1f20db32a4"
      },
      "source": [
        "model = LogisticRegression()\n",
        "model.fit(trainx,trainy)\n",
        "preds = model.predict(valx)\n",
        "accuracy_score(preds,valy)"
      ],
      "execution_count": 20,
      "outputs": [
        {
          "output_type": "execute_result",
          "data": {
            "text/plain": [
              "0.9637091728194218"
            ]
          },
          "metadata": {
            "tags": []
          },
          "execution_count": 20
        }
      ]
    },
    {
      "cell_type": "code",
      "metadata": {
        "_uuid": "0fa67a8d5acbecc80d862df9547b2ad11f1624c8",
        "id": "bGgM-Zi2ZhSE",
        "colab_type": "code",
        "colab": {}
      },
      "source": [
        "model = ensemble.ExtraTreesClassifier()\n",
        "model.fit(trainx,trainy)\n",
        "preds = model.predict(valx)\n",
        "accuracy_score(preds,valy)"
      ],
      "execution_count": 0,
      "outputs": []
    }
  ]
}